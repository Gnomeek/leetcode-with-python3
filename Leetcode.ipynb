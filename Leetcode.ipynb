{
 "cells": [
  {
   "cell_type": "markdown",
   "metadata": {},
   "source": [
    "## 1.两数之和"
   ]
  },
  {
   "cell_type": "code",
   "execution_count": null,
   "metadata": {},
   "outputs": [],
   "source": [
    "def twoSum(self, nums: List[int], target: int) -> List[int]:\n",
    "    dic={}\n",
    "    for n in range(len(nums)):\n",
    "        if(target - nums[n]) in dic:\n",
    "            return [dic[target - nums[n]],n]\n",
    "        else:\n",
    "            dic[nums[n]]=n\n",
    "    # 在这里 dic 的索引为数组的值，而值为数字对应的数组序号"
   ]
  },
  {
   "cell_type": "markdown",
   "metadata": {},
   "source": [
    "## 4.寻找两个有序数组的中位数"
   ]
  },
  {
   "cell_type": "code",
   "execution_count": null,
   "metadata": {},
   "outputs": [],
   "source": [
    "def findMedianSortedArrays(self, nums1: List[int], nums2: List[int]) -> float:\n",
    "    nums1.extend(nums2)\n",
    "    nums1.sort()\n",
    "    loc=len(nums1)//2\n",
    "    if len(nums1)%2==0:\n",
    "        return (nums1[loc]+nums1[loc-1])/2\n",
    "    else:\n",
    "        return nums1[loc]"
   ]
  },
  {
   "cell_type": "markdown",
   "metadata": {},
   "source": [
    "## 11.盛最多水的容器"
   ]
  },
  {
   "cell_type": "code",
   "execution_count": null,
   "metadata": {},
   "outputs": [],
   "source": [
    "def maxArea(self, height: List[int]) -> int:\n",
    "    area = 0\n",
    "    lp = 0\n",
    "    rp = len(height)-1\n",
    "    while lp < rp :\n",
    "        temp = (rp-lp)*(height[lp] if height[lp]<height[rp] else height[rp])\n",
    "        if(height[lp] < height[rp]):\n",
    "            lp += 1\n",
    "        else:\n",
    "            rp -= 1\n",
    "        if temp > area:\n",
    "            area = temp\n",
    "    return area"
   ]
  },
  {
   "cell_type": "markdown",
   "metadata": {},
   "source": [
    "## 26. 删除排序数组中的重复项 "
   ]
  },
  {
   "cell_type": "code",
   "execution_count": null,
   "metadata": {},
   "outputs": [],
   "source": [
    "def removeDuplicates(self, nums: List[int]) -> int:\n",
    "    #不必要的鲁棒性\n",
    "    #if len(nums) == 1 or len(nums) == 0:\n",
    "    #    return\n",
    "    #nums.sort()已经是排好序的数组，不用重排\n",
    "    n=0\n",
    "    while n < len(nums)-1:\n",
    "        if nums[n] != nums[n+1]:\n",
    "            n += 1\n",
    "        else:\n",
    "            del nums[n]"
   ]
  },
  {
   "cell_type": "markdown",
   "metadata": {},
   "source": [
    "## 15. 三数之和"
   ]
  },
  {
   "cell_type": "code",
   "execution_count": null,
   "metadata": {},
   "outputs": [],
   "source": [
    "def threeSum(self, nums: List[int]) -> List[List[int]]:\n",
    "    numSorted=sorted(nums)\n",
    "    lens=len(nums)\n",
    "    ans=[]\n",
    "    #if numSorted[0] > 0 or numSorted[lens-1] < 0:\n",
    "    #    return ans\n",
    "    for key,value in enumerate(numSorted):\n",
    "        i,j = key+1,lens-1\n",
    "        while i < j:\n",
    "            if numSorted[i] + numSorted[j] + value ==0:\n",
    "                if [value,numSorted[i],numSorted[j]] not in ans:                        \n",
    "                    ans.append([value,numSorted[i],numSorted[j]])\n",
    "                    while i < j and numSorted[i] == numSorted[i+1]:\n",
    "                        i += 1\n",
    "                    while i < j and numSorted[j] == numSorted[j-1]:\n",
    "                        j -= 1\n",
    "            \n",
    "                    i += 1\n",
    "                    j -= 1\n",
    "            elif numSorted[i] + numSorted[j] + value > 0:\n",
    "                j -= 1\n",
    "            else:\n",
    "                i += 1\n",
    "    return ans"
   ]
  }
 ],
 "metadata": {
  "kernelspec": {
   "display_name": "Python 3",
   "language": "python",
   "name": "python3"
  },
  "language_info": {
   "codemirror_mode": {
    "name": "ipython",
    "version": 3
   },
   "file_extension": ".py",
   "mimetype": "text/x-python",
   "name": "python",
   "nbconvert_exporter": "python",
   "pygments_lexer": "ipython3",
   "version": "3.7.1"
  }
 },
 "nbformat": 4,
 "nbformat_minor": 2
}
